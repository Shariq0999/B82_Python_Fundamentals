{
 "cells": [
  {
   "cell_type": "code",
   "execution_count": 2,
   "id": "93ddfde1",
   "metadata": {},
   "outputs": [
    {
     "name": "stdout",
     "output_type": "stream",
     "text": [
      "Hello Welcome to Python\n"
     ]
    }
   ],
   "source": [
    "print(\"Hello Welcome to Python\")"
   ]
  },
  {
   "cell_type": "code",
   "execution_count": 3,
   "id": "8e3afcc9",
   "metadata": {},
   "outputs": [
    {
     "name": "stdout",
     "output_type": "stream",
     "text": [
      "shariq\n"
     ]
    }
   ],
   "source": [
    "Frist_Name='shariq'\n",
    "print(Frist_Name)"
   ]
  },
  {
   "cell_type": "code",
   "execution_count": 6,
   "id": "a2e6641a",
   "metadata": {},
   "outputs": [
    {
     "name": "stdout",
     "output_type": "stream",
     "text": [
      "shari\n"
     ]
    }
   ],
   "source": [
    "FristName=\"shari\"\n",
    "print(FristName)"
   ]
  },
  {
   "cell_type": "code",
   "execution_count": 9,
   "id": "a3a83042",
   "metadata": {},
   "outputs": [
    {
     "name": "stdout",
     "output_type": "stream",
     "text": [
      "5\n"
     ]
    }
   ],
   "source": [
    "A=2\n",
    "B=3\n",
    "C=A+B\n",
    "print(C)"
   ]
  },
  {
   "cell_type": "code",
   "execution_count": 11,
   "id": "6eb18f95",
   "metadata": {},
   "outputs": [
    {
     "name": "stdout",
     "output_type": "stream",
     "text": [
      "asim\n"
     ]
    }
   ],
   "source": [
    "Name1=\"asim\"\n",
    "print(Name1)"
   ]
  },
  {
   "cell_type": "code",
   "execution_count": 13,
   "id": "e8c520ce",
   "metadata": {},
   "outputs": [
    {
     "name": "stdout",
     "output_type": "stream",
     "text": [
      "Ram\n"
     ]
    }
   ],
   "source": [
    "a='Ram'\n",
    "print(a)"
   ]
  },
  {
   "cell_type": "code",
   "execution_count": 14,
   "id": "bfc7c7f7",
   "metadata": {},
   "outputs": [
    {
     "name": "stdout",
     "output_type": "stream",
     "text": [
      "Kareem\n"
     ]
    }
   ],
   "source": [
    "B=\"Kareem\"\n",
    "print(B)"
   ]
  },
  {
   "cell_type": "code",
   "execution_count": null,
   "id": "61f7c7a2",
   "metadata": {},
   "outputs": [],
   "source": []
  }
 ],
 "metadata": {
  "kernelspec": {
   "display_name": "Python 3 (ipykernel)",
   "language": "python",
   "name": "python3"
  },
  "language_info": {
   "codemirror_mode": {
    "name": "ipython",
    "version": 3
   },
   "file_extension": ".py",
   "mimetype": "text/x-python",
   "name": "python",
   "nbconvert_exporter": "python",
   "pygments_lexer": "ipython3",
   "version": "3.11.4"
  }
 },
 "nbformat": 4,
 "nbformat_minor": 5
}
